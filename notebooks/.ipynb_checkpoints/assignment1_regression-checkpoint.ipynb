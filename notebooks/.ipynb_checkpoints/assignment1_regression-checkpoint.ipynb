{
 "cells": [
  {
   "cell_type": "code",
   "execution_count": 1,
   "metadata": {
    "collapsed": false
   },
   "outputs": [
    {
     "data": {
      "image/jpeg": "[encoded data removed]",
      "text/plain": [
       "<IPython.core.display.Image object>"
      ]
     },
     "execution_count": 1,
     "metadata": {},
     "output_type": "execute_result"
    }
   ],
   "source": [
    "from IPython.display import Image\n",
    "Image(\"../images/cricket.jpg\")"
   ]
  },
  {
   "cell_type": "markdown",
   "metadata": {},
   "source": [
    "# Introduction Data Science\n",
    "# Assignment 1: Linear Regression from scratch\n",
    "\n",
    "### In this assignment you will implement linear regression without the use of any machine learning package.\n",
    "\n",
    "### Learning goals:\n",
    "- Understand how to build a simple estimator class\n",
    "- Understand how to implement gradient descent\n",
    "- Learn to play with hyperparameters"
   ]
  },
  {
   "cell_type": "markdown",
   "metadata": {},
   "source": [
    "# Import packages"
   ]
  },
  {
   "cell_type": "code",
   "execution_count": null,
   "metadata": {
    "collapsed": false
   },
   "outputs": [],
   "source": [
    "import numpy as np\n",
    "import pandas as pd\n",
    "\n",
    "import matplotlib.pyplot as plt\n",
    "%matplotlib inline"
   ]
  },
  {
   "cell_type": "markdown",
   "metadata": {},
   "source": [
    "# Load data\n",
    "In this assignment, the goal is to predict the **temperature** with the **speed of cricket chirps** and the **volume of the chirps** in a certain forest."
   ]
  },
  {
   "cell_type": "code",
   "execution_count": null,
   "metadata": {
    "collapsed": false
   },
   "outputs": [],
   "source": [
    "cricket_df = pd.read_csv('../data/crickets_weather.csv', sep=';')\n",
    "print('Shape of df: {}'.format(cricket_df.shape))\n",
    "cricket_df"
   ]
  },
  {
   "cell_type": "markdown",
   "metadata": {},
   "source": [
    "# Explore data\n",
    "Check whether a relationship is identfiable between the features and the temperature"
   ]
  },
  {
   "cell_type": "code",
   "execution_count": null,
   "metadata": {
    "collapsed": false
   },
   "outputs": [],
   "source": [
    "# check for missing values or outliers and get an initial feeling for the data.\n",
    "cricket_df.describe()"
   ]
  },
  {
   "cell_type": "code",
   "execution_count": null,
   "metadata": {
    "collapsed": false
   },
   "outputs": [],
   "source": [
    "# Check correlation between all variables\n",
    "cricket_df.corr()"
   ]
  },
  {
   "cell_type": "markdown",
   "metadata": {},
   "source": [
    "### Set the dependent variable (y)  and feature variables (X)"
   ]
  },
  {
   "cell_type": "code",
   "execution_count": null,
   "metadata": {
    "collapsed": false
   },
   "outputs": [],
   "source": [
    "# Get the values of y and X as an array.\n",
    "y = <CODE HERE>\n",
    "X = <CODE HERE>"
   ]
  },
  {
   "cell_type": "code",
   "execution_count": null,
   "metadata": {
    "collapsed": false
   },
   "outputs": [],
   "source": [
    "# visualize data\n",
    "plt.figure(figsize=(16,6))\n",
    "\n",
    "plt.subplot(1,2,1)\n",
    "plt.scatter(X[:,0], y)\n",
    "plt.xlabel('Cricket Chirps (chirps/sec)', size=16)\n",
    "plt.ylabel('Temperature (F)', size=16)\n",
    "plt.xticks(size=16);\n",
    "plt.yticks(size=15);\n",
    "\n",
    "plt.subplot(1,2,2)\n",
    "plt.scatter(X[:,1], y);\n",
    "plt.xlabel('Avg Chirp Volume', size=16);\n",
    "plt.ylabel('Temperature (F)', size=16);\n",
    "plt.xticks(size=16);\n",
    "plt.yticks(size=15);\n",
    "\n",
    "plt.show()"
   ]
  },
  {
   "cell_type": "markdown",
   "metadata": {
    "collapsed": true
   },
   "source": [
    "# Implementing linear regression from scratch\n",
    "Now we have checked that the data is clean and there are obvious linear relationships in the data, it makes sense to use a linear regression to estimate $y$.\n",
    "\n",
    "The implementation consists of three steps:\n",
    "   1. Initialize the class\n",
    "   2. Develop a function that can make predicitons with a given model (coefficients or weights)\n",
    "   3. Fit a model using gradient descent in order to return the model with the lowest mean squared error"
   ]
  },
  {
   "cell_type": "markdown",
   "metadata": {},
   "source": [
    "## Step 1 and 2\n",
    "### 1. Initialize the class\n",
    "### 2. Develop function that can make predictions\n",
    "The prediction of a linear regression done by it's linear regression formula: $$ \\hat{y}=w_0 + w_1x_1 + w_2x_2 + \\dots + w_nx_n = \\mathbf{w}^T \\mathbf{X} $$\n",
    "\n",
    "In order to make the computation easier, we will add an intercept feature $x_0$ to $\\mathbf{X}$ that contains ones. In this way, the shapes of $\\mathbf{w}$ and $\\mathbf{X}$ will be of the same dimension"
   ]
  },
  {
   "cell_type": "code",
   "execution_count": null,
   "metadata": {
    "collapsed": false
   },
   "outputs": [],
   "source": [
    "class LinearRegression(object):\n",
    "    \"\"\"\n",
    "    Least squares linear regression\n",
    "    \n",
    "    Parameters\n",
    "    ----------\n",
    "    n_iter: positive integer\n",
    "        number of iterations to perform gradient descent\n",
    "        \n",
    "    eta: float [0,1]\n",
    "        learning rate\n",
    "    \"\"\"\n",
    "    \n",
    "    def __init__(self, n_iter=200, eta=0.00001):\n",
    "        self.eta = <CODE HERE>\n",
    "        self.n_iter = <CODE HERE>\n",
    "        \n",
    "\n",
    "    def predict(self, X):\n",
    "        \"\"\"\n",
    "        Predict using the linear model\n",
    "        \n",
    "        Parameters\n",
    "        ----------\n",
    "        X: array, shape = (n_samples, n_features)\n",
    "        \n",
    "        return: array with predictions\n",
    "        \"\"\"\n",
    "        # set an intercept term and add to X\n",
    "        intercept = np.ones((X.shape[0], 1))\n",
    "        X = np.append(intercept, X, axis=1)\n",
    "        # set weights for testing as one for all weights (including the intercept term)\n",
    "        self.weights = np.ones(X.shape[1])\n",
    "        # calculate estimated y per observation (dot product of X and y)\n",
    "        y_hat = <CODE HERE>\n",
    "        return y_hat"
   ]
  },
  {
   "cell_type": "markdown",
   "metadata": {},
   "source": [
    "### Test predict function\n",
    "Note: possibly, the implementation of the predict function requires that X has the shape (n_samples, n_features). When selecting only one column of X, Python will automatically change its shape to (n_sample,). The numpy reshape manipulation below gives the array the shape (n_samples, 1)."
   ]
  },
  {
   "cell_type": "code",
   "execution_count": null,
   "metadata": {
    "collapsed": true
   },
   "outputs": [],
   "source": [
    "lr_test_predict = LinearRegression()"
   ]
  },
  {
   "cell_type": "code",
   "execution_count": null,
   "metadata": {
    "collapsed": false
   },
   "outputs": [],
   "source": [
    "# get predictions using only the first feature\n",
    "print(lr_test_predict.predict(X[:,0].reshape(-1,1)))"
   ]
  },
  {
   "cell_type": "code",
   "execution_count": null,
   "metadata": {
    "collapsed": false
   },
   "outputs": [],
   "source": [
    "# get predictions using only the second feature\n",
    "<CODE HERE>"
   ]
  },
  {
   "cell_type": "code",
   "execution_count": null,
   "metadata": {
    "collapsed": false
   },
   "outputs": [],
   "source": [
    "# get predictions using both features\n",
    "<CODE HERE>"
   ]
  },
  {
   "cell_type": "markdown",
   "metadata": {},
   "source": [
    "## 3. Estimate weights using gradient descent"
   ]
  },
  {
   "cell_type": "markdown",
   "metadata": {},
   "source": [
    "**Stochastic gradient descent requires two parameters:**\n",
    "\n",
    "**Learning Rate (eta)**:\n",
    "Used to limit the amount each coefficient is corrected each time it is updated.\n",
    "\n",
    "**Iterations (n_iter)**: The number of times to run through the training data while updating the coefficients.\n",
    "These, along with the training data will be the arguments to the function.\n",
    "\n",
    "\n",
    "**There are 5 steps we need to perform in the fit function:**\n",
    "\n",
    "1. Loop over each iteration\n",
    "2. Predict the values with weights of current iteration\n",
    "3. Calculate the cost (Mean Squared Error) with these predictions\n",
    "$$ J(\\mathbf{w}) = \\frac{1}{n} \\sum_{i=1}^n (y_i - \\hat{y}_i)^2$$\n",
    "4. Calculate the gradient. If you are interested in the derivation of the gradient you can take a look at the bottom of [this page](https://sebastianraschka.com/faq/docs/linear-gradient-derivative.html).\n",
    "$$\\nabla J(\\mathbf{w}) = \\frac{1}{n}\\sum_{i=1}^n(y_i - \\hat{y}_i) x_i$$\n",
    "5. Update the weights\n",
    "$$ w_j = w_j - \\eta \\nabla J(w_j) \\qquad \\forall j $$\n",
    "\n",
    "\n",
    "Note: Adding the intercept and initalizing the weights is actually more practical in de fit function. That is why these are moved from the predict function is the previous assignment."
   ]
  },
  {
   "cell_type": "code",
   "execution_count": null,
   "metadata": {
    "collapsed": true
   },
   "outputs": [],
   "source": [
    "class LinearRegressionGD(object):\n",
    "    \"\"\"\n",
    "    Least squares linear regression\n",
    "    \n",
    "    Parameters\n",
    "    ----------\n",
    "    n_iter: positive integer\n",
    "        number of iterations to perform gradient descent\n",
    "        \n",
    "    eta: float [0,1]\n",
    "        learning rate\n",
    "    \n",
    "    print_iter: boolean\n",
    "        when true, show cost during traing after each 20 iterations\n",
    "    \"\"\"\n",
    "    \n",
    "    def __init__(self, n_iter=200, eta=0.0001, print_iter=False):\n",
    "        self.eta = <CODE HERE>\n",
    "        self.n_iter = <CODE HERE>\n",
    "        self.print_iter = print_iter\n",
    "            \n",
    "    def predict(self, X):\n",
    "        # Add intercept, only in the case it is not yet added\n",
    "        if X.shape[1] == len(self.weights) - 1:\n",
    "            intercept = np.ones((X.shape[0], 1))\n",
    "            X = np.append(intercept, X, axis=1)\n",
    "        # calculate estimated y per observation (dot product of X and y)\n",
    "        y_hat = <CODE HERE>\n",
    "        return y_hat\n",
    "    \n",
    "    def fit(self, X, y):\n",
    "        \"\"\"\n",
    "        Fit linear model\n",
    "        \n",
    "        Parameters\n",
    "        ----------\n",
    "        X: array, shape = (n_samples, n_features)\n",
    "        y: array, shape = (n_samples, )\n",
    "        \n",
    "        returns: self  \n",
    "        \"\"\"\n",
    "        # keep track of costs\n",
    "        self.costs = []\n",
    "        \n",
    "        # add intercept\n",
    "        intercept = np.ones((X.shape[0], 1))\n",
    "        X = np.append(intercept, X, axis=1)\n",
    "        \n",
    "        # initialize weights with zeros\n",
    "        self.weights = np.zeros(X.shape[1])\n",
    "        \n",
    "        # loop over each iteration\n",
    "        for i in range(self.n_iter):\n",
    "            # predict values with weights of current iterations\n",
    "            y_hat = <CODE HERE>\n",
    "            \n",
    "            # calculate cost (mean squared error)\n",
    "            cost = <CODE HERE>\n",
    "            \n",
    "            # keep track of cost per iteration\n",
    "            self.costs.append(cost)\n",
    "            \n",
    "            # print cost per 20 iterations to check if MSE is converging\n",
    "            if self.print_iter:\n",
    "                if (i+1) % 20 == 0:\n",
    "                    print(\"Iteration {} | Cost: {:.2f}\".format(i+1, cost))\n",
    "     \n",
    "            # calculate the gradient\n",
    "            gradient = <CODE HERE>\n",
    "            \n",
    "            # update weights\n",
    "            self.weights = <CODE HERE>\n",
    "            \n",
    "        return self"
   ]
  },
  {
   "cell_type": "markdown",
   "metadata": {},
   "source": [
    "## Test fit function"
   ]
  },
  {
   "cell_type": "code",
   "execution_count": null,
   "metadata": {
    "collapsed": false,
    "scrolled": false
   },
   "outputs": [],
   "source": [
    "lr = LinearRegressionGD(eta=0.0001, n_iter=200, print_iter=True)\n",
    "lr.fit(X[:,0].reshape(-1,1),y)\n",
    "y_hat = lr.predict(X[:,0].reshape(-1,1))\n",
    "\n",
    "y_hat"
   ]
  },
  {
   "cell_type": "markdown",
   "metadata": {},
   "source": [
    "## Questions:\n",
    "- **Which feature is better in predicting the temperature?**\n",
    "- **Are the predictions more accurate when you use both features?**"
   ]
  },
  {
   "cell_type": "markdown",
   "metadata": {},
   "source": [
    "## Plot results"
   ]
  },
  {
   "cell_type": "code",
   "execution_count": null,
   "metadata": {
    "collapsed": false
   },
   "outputs": [],
   "source": [
    "def plot_regression_line(lr, X, y):\n",
    "    lr.print_iter = False\n",
    "    lr.fit(X, y)\n",
    "    y_hat = lr.predict(X)\n",
    "    \n",
    "    plt.figure(figsize=(10,6));\n",
    "    plt.scatter(X, y);\n",
    "    plt.plot(X, y_hat, '-', c='orange', label='Regression line. MSE: {:.2f}'.format(lr.costs[-1]));\n",
    "    plt.xlabel('Cricket Chirps (chirps/sec)', size=16);\n",
    "    plt.ylabel('Temperature (F)', size=16);\n",
    "    plt.xticks(size=16);\n",
    "    plt.yticks(size=15);\n",
    "    plt.legend(fontsize=16);\n",
    "    \n",
    "plot_regression_line(lr, X[:,0].reshape(-1,1), y)"
   ]
  },
  {
   "cell_type": "markdown",
   "metadata": {},
   "source": [
    "# Choosing learning rate hyperparameter\n",
    "Making a plot can help in setting a good hyperparamter. Use the plotting function below to choose an appropriate learning rate. An appropriate learning rate is quickly converging to a certain MSE.\n"
   ]
  },
  {
   "cell_type": "code",
   "execution_count": null,
   "metadata": {
    "collapsed": false,
    "scrolled": false
   },
   "outputs": [],
   "source": [
    "def plot_learning_rate(X, n_iter, eta_list):\n",
    "    colors = ['blue', 'red', 'green', 'brown', 'yellow']\n",
    "    plt.figure(figsize=(10,6))\n",
    "    for eta, c in zip(eta_list, colors):\n",
    "        lr = LinearRegressionGD(n_iter, eta)\n",
    "        lr.fit(X, y)\n",
    "        plt.plot(lr.costs, color=c, label='$\\eta$: {}\\nMSE: {:}'.format(eta, round(lr.costs[-1],2)))\n",
    "    plt.legend(fontsize=16)\n",
    "    plt.xticks(size=15)\n",
    "    plt.yticks(size=15)\n",
    "    plt.xlabel('iteration', size=16)\n",
    "    plt.ylabel('costs (MSE)', size=16)\n",
    "\n",
    "# get list of some learning rates between 0 and 1 to test for convergence and speed\n",
    "eta_list = <CODE HERE>\n",
    "plot_learning_rate(X=<CODE HERE>, n_iter=200, eta_list=eta_list)"
   ]
  }
 ],
 "metadata": {
  "anaconda-cloud": {},
  "kernelspec": {
   "display_name": "Python [default]",
   "language": "python",
   "name": "python2"
  },
  "language_info": {
   "codemirror_mode": {
    "name": "ipython",
    "version": 2
   },
   "file_extension": ".py",
   "mimetype": "text/x-python",
   "name": "python",
   "nbconvert_exporter": "python",
   "pygments_lexer": "ipython2",
   "version": "2.7.12"
  }
 },
 "nbformat": 4,
 "nbformat_minor": 0
}
