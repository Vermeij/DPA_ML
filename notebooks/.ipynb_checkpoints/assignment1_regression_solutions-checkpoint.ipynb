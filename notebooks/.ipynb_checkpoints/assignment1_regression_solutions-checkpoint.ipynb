{
 "cells": [
  {
   "cell_type": "code",
   "execution_count": 167,
   "metadata": {
    "collapsed": false
   },
   "outputs": [
    {
     "data": {
      "image/jpeg": "[encoded data removed]",
      "text/plain": [
       "<IPython.core.display.Image object>"
      ]
     },
     "execution_count": 167,
     "metadata": {},
     "output_type": "execute_result"
    }
   ],
   "source": [
    "from IPython.display import Image\n",
    "Image(\"../images/cricket.jpg\")"
   ]
  },
  {
   "cell_type": "markdown",
   "metadata": {},
   "source": [
    "# Introduction Data Science\n",
    "# Assignment 1: Linear Regression from scratch\n",
    "\n",
    "### In this assignment you will implement linear regression without the use of any machine learning package\n",
    "\n",
    "### Learning goals:\n",
    "- Understand how to build a simple estimator class\n",
    "- Understand how to implement gradient descent\n",
    "- Learn to play with hyperparameters"
   ]
  },
  {
   "cell_type": "markdown",
   "metadata": {},
   "source": [
    "# Import packages"
   ]
  },
  {
   "cell_type": "code",
   "execution_count": 42,
   "metadata": {
    "collapsed": false
   },
   "outputs": [],
   "source": [
    "import numpy as np\n",
    "import pandas as pd\n",
    "\n",
    "import matplotlib.pyplot as plt\n",
    "%matplotlib inline"
   ]
  },
  {
   "cell_type": "markdown",
   "metadata": {},
   "source": [
    "# Load data"
   ]
  },
  {
   "cell_type": "code",
   "execution_count": 111,
   "metadata": {
    "collapsed": false
   },
   "outputs": [
    {
     "name": "stdout",
     "output_type": "stream",
     "text": [
      "Shape of df: (15, 3)\n"
     ]
    },
    {
     "data": {
      "text/html": [
       "<div>\n",
       "<table border=\"1\" class=\"dataframe\">\n",
       "  <thead>\n",
       "    <tr style=\"text-align: right;\">\n",
       "      <th></th>\n",
       "      <th>Temperature (F)</th>\n",
       "      <th>Cricket Chirps (chirps/sec)</th>\n",
       "      <th>Avg Chirp Volume</th>\n",
       "    </tr>\n",
       "  </thead>\n",
       "  <tbody>\n",
       "    <tr>\n",
       "      <th>0</th>\n",
       "      <td>88.6</td>\n",
       "      <td>20.0</td>\n",
       "      <td>101.46</td>\n",
       "    </tr>\n",
       "    <tr>\n",
       "      <th>1</th>\n",
       "      <td>71.6</td>\n",
       "      <td>16.0</td>\n",
       "      <td>69.00</td>\n",
       "    </tr>\n",
       "    <tr>\n",
       "      <th>2</th>\n",
       "      <td>93.3</td>\n",
       "      <td>19.8</td>\n",
       "      <td>89.07</td>\n",
       "    </tr>\n",
       "    <tr>\n",
       "      <th>3</th>\n",
       "      <td>84.3</td>\n",
       "      <td>18.4</td>\n",
       "      <td>103.80</td>\n",
       "    </tr>\n",
       "    <tr>\n",
       "      <th>4</th>\n",
       "      <td>80.6</td>\n",
       "      <td>17.1</td>\n",
       "      <td>94.32</td>\n",
       "    </tr>\n",
       "    <tr>\n",
       "      <th>5</th>\n",
       "      <td>75.2</td>\n",
       "      <td>15.5</td>\n",
       "      <td>46.83</td>\n",
       "    </tr>\n",
       "    <tr>\n",
       "      <th>6</th>\n",
       "      <td>69.7</td>\n",
       "      <td>14.7</td>\n",
       "      <td>73.35</td>\n",
       "    </tr>\n",
       "    <tr>\n",
       "      <th>7</th>\n",
       "      <td>82.0</td>\n",
       "      <td>17.1</td>\n",
       "      <td>64.02</td>\n",
       "    </tr>\n",
       "    <tr>\n",
       "      <th>8</th>\n",
       "      <td>69.4</td>\n",
       "      <td>15.4</td>\n",
       "      <td>59.64</td>\n",
       "    </tr>\n",
       "    <tr>\n",
       "      <th>9</th>\n",
       "      <td>83.3</td>\n",
       "      <td>16.2</td>\n",
       "      <td>69.75</td>\n",
       "    </tr>\n",
       "    <tr>\n",
       "      <th>10</th>\n",
       "      <td>79.6</td>\n",
       "      <td>15.0</td>\n",
       "      <td>62.16</td>\n",
       "    </tr>\n",
       "    <tr>\n",
       "      <th>11</th>\n",
       "      <td>82.6</td>\n",
       "      <td>17.2</td>\n",
       "      <td>88.41</td>\n",
       "    </tr>\n",
       "    <tr>\n",
       "      <th>12</th>\n",
       "      <td>80.6</td>\n",
       "      <td>16.0</td>\n",
       "      <td>74.43</td>\n",
       "    </tr>\n",
       "    <tr>\n",
       "      <th>13</th>\n",
       "      <td>83.5</td>\n",
       "      <td>17.0</td>\n",
       "      <td>67.83</td>\n",
       "    </tr>\n",
       "    <tr>\n",
       "      <th>14</th>\n",
       "      <td>76.3</td>\n",
       "      <td>14.4</td>\n",
       "      <td>64.86</td>\n",
       "    </tr>\n",
       "  </tbody>\n",
       "</table>\n",
       "</div>"
      ],
      "text/plain": [
       "    Temperature (F)  Cricket Chirps (chirps/sec)  Avg Chirp Volume\n",
       "0              88.6                         20.0            101.46\n",
       "1              71.6                         16.0             69.00\n",
       "2              93.3                         19.8             89.07\n",
       "3              84.3                         18.4            103.80\n",
       "4              80.6                         17.1             94.32\n",
       "5              75.2                         15.5             46.83\n",
       "6              69.7                         14.7             73.35\n",
       "7              82.0                         17.1             64.02\n",
       "8              69.4                         15.4             59.64\n",
       "9              83.3                         16.2             69.75\n",
       "10             79.6                         15.0             62.16\n",
       "11             82.6                         17.2             88.41\n",
       "12             80.6                         16.0             74.43\n",
       "13             83.5                         17.0             67.83\n",
       "14             76.3                         14.4             64.86"
      ]
     },
     "execution_count": 111,
     "metadata": {},
     "output_type": "execute_result"
    }
   ],
   "source": [
    "cricket_df = pd.read_csv('../data/crickets_weather.csv', sep=';')\n",
    "print('Shape of df: {}'.format(cricket_df.shape))\n",
    "cricket_df"
   ]
  },
  {
   "cell_type": "markdown",
   "metadata": {},
   "source": [
    "**The data consits of only 15 rows and three columns.**\n",
    "\n",
    "**The goal is to predict the temperature with the speed of cricket chirps and the volume of the chirps in a certain forest.**"
   ]
  },
  {
   "cell_type": "markdown",
   "metadata": {},
   "source": [
    "# Explore data\n",
    "Check whether a relationship is identfiable between the features and the temperature"
   ]
  },
  {
   "cell_type": "code",
   "execution_count": 112,
   "metadata": {
    "collapsed": false
   },
   "outputs": [
    {
     "data": {
      "text/html": [
       "<div>\n",
       "<table border=\"1\" class=\"dataframe\">\n",
       "  <thead>\n",
       "    <tr style=\"text-align: right;\">\n",
       "      <th></th>\n",
       "      <th>Temperature (F)</th>\n",
       "      <th>Cricket Chirps (chirps/sec)</th>\n",
       "      <th>Avg Chirp Volume</th>\n",
       "    </tr>\n",
       "  </thead>\n",
       "  <tbody>\n",
       "    <tr>\n",
       "      <th>count</th>\n",
       "      <td>15.000000</td>\n",
       "      <td>15.000000</td>\n",
       "      <td>15.00000</td>\n",
       "    </tr>\n",
       "    <tr>\n",
       "      <th>mean</th>\n",
       "      <td>80.040000</td>\n",
       "      <td>16.653333</td>\n",
       "      <td>75.26200</td>\n",
       "    </tr>\n",
       "    <tr>\n",
       "      <th>std</th>\n",
       "      <td>6.707331</td>\n",
       "      <td>1.702044</td>\n",
       "      <td>16.50831</td>\n",
       "    </tr>\n",
       "    <tr>\n",
       "      <th>min</th>\n",
       "      <td>69.400000</td>\n",
       "      <td>14.400000</td>\n",
       "      <td>46.83000</td>\n",
       "    </tr>\n",
       "    <tr>\n",
       "      <th>25%</th>\n",
       "      <td>75.750000</td>\n",
       "      <td>15.450000</td>\n",
       "      <td>64.44000</td>\n",
       "    </tr>\n",
       "    <tr>\n",
       "      <th>50%</th>\n",
       "      <td>80.600000</td>\n",
       "      <td>16.200000</td>\n",
       "      <td>69.75000</td>\n",
       "    </tr>\n",
       "    <tr>\n",
       "      <th>75%</th>\n",
       "      <td>83.400000</td>\n",
       "      <td>17.150000</td>\n",
       "      <td>88.74000</td>\n",
       "    </tr>\n",
       "    <tr>\n",
       "      <th>max</th>\n",
       "      <td>93.300000</td>\n",
       "      <td>20.000000</td>\n",
       "      <td>103.80000</td>\n",
       "    </tr>\n",
       "  </tbody>\n",
       "</table>\n",
       "</div>"
      ],
      "text/plain": [
       "       Temperature (F)  Cricket Chirps (chirps/sec)  Avg Chirp Volume\n",
       "count        15.000000                    15.000000          15.00000\n",
       "mean         80.040000                    16.653333          75.26200\n",
       "std           6.707331                     1.702044          16.50831\n",
       "min          69.400000                    14.400000          46.83000\n",
       "25%          75.750000                    15.450000          64.44000\n",
       "50%          80.600000                    16.200000          69.75000\n",
       "75%          83.400000                    17.150000          88.74000\n",
       "max          93.300000                    20.000000         103.80000"
      ]
     },
     "execution_count": 112,
     "metadata": {},
     "output_type": "execute_result"
    }
   ],
   "source": [
    "# check for missing values or outliers and get an initial feeling for the data.\n",
    "cricket_df.describe()"
   ]
  },
  {
   "cell_type": "code",
   "execution_count": 159,
   "metadata": {
    "collapsed": false
   },
   "outputs": [
    {
     "data": {
      "text/html": [
       "<div>\n",
       "<table border=\"1\" class=\"dataframe\">\n",
       "  <thead>\n",
       "    <tr style=\"text-align: right;\">\n",
       "      <th></th>\n",
       "      <th>Temperature (F)</th>\n",
       "      <th>Cricket Chirps (chirps/sec)</th>\n",
       "      <th>Avg Chirp Volume</th>\n",
       "    </tr>\n",
       "  </thead>\n",
       "  <tbody>\n",
       "    <tr>\n",
       "      <th>Temperature (F)</th>\n",
       "      <td>1.000000</td>\n",
       "      <td>0.835144</td>\n",
       "      <td>0.598763</td>\n",
       "    </tr>\n",
       "    <tr>\n",
       "      <th>Cricket Chirps (chirps/sec)</th>\n",
       "      <td>0.835144</td>\n",
       "      <td>1.000000</td>\n",
       "      <td>0.756068</td>\n",
       "    </tr>\n",
       "    <tr>\n",
       "      <th>Avg Chirp Volume</th>\n",
       "      <td>0.598763</td>\n",
       "      <td>0.756068</td>\n",
       "      <td>1.000000</td>\n",
       "    </tr>\n",
       "  </tbody>\n",
       "</table>\n",
       "</div>"
      ],
      "text/plain": [
       "                             Temperature (F)  Cricket Chirps (chirps/sec)  \\\n",
       "Temperature (F)                     1.000000                     0.835144   \n",
       "Cricket Chirps (chirps/sec)         0.835144                     1.000000   \n",
       "Avg Chirp Volume                    0.598763                     0.756068   \n",
       "\n",
       "                             Avg Chirp Volume  \n",
       "Temperature (F)                      0.598763  \n",
       "Cricket Chirps (chirps/sec)          0.756068  \n",
       "Avg Chirp Volume                     1.000000  "
      ]
     },
     "execution_count": 159,
     "metadata": {},
     "output_type": "execute_result"
    }
   ],
   "source": [
    "# Check correlation between all variables\n",
    "cricket_df.corr()"
   ]
  },
  {
   "cell_type": "markdown",
   "metadata": {},
   "source": [
    "### Set the dependent variable (y)  and feature variables (X)"
   ]
  },
  {
   "cell_type": "code",
   "execution_count": 113,
   "metadata": {
    "collapsed": false
   },
   "outputs": [],
   "source": [
    "# Get the values of y and X as an array.\n",
    "y = cricket_df['Temperature (F)'].values\n",
    "X = cricket_df[['Cricket Chirps (chirps/sec)', 'Avg Chirp Volume']].values"
   ]
  },
  {
   "cell_type": "code",
   "execution_count": 117,
   "metadata": {
    "collapsed": false
   },
   "outputs": [
    {
     "data": {
      "image/png": "[encoded data removed]",
      "text/plain": [
       "<matplotlib.figure.Figure at 0x7f30d6b8f0f0>"
      ]
     },
     "metadata": {},
     "output_type": "display_data"
    }
   ],
   "source": [
    "# visualize data\n",
    "plt.figure(figsize=(16,6))\n",
    "\n",
    "plt.subplot(1,2,1)\n",
    "plt.scatter(X[:,0], y)\n",
    "plt.xlabel('Cricket Chirps (chirps/sec)', size=16)\n",
    "plt.ylabel('Temperature (F)', size=16)\n",
    "plt.xticks(size=16);\n",
    "plt.yticks(size=15);\n",
    "\n",
    "plt.subplot(1,2,2)\n",
    "plt.scatter(X[:,1], y);\n",
    "plt.xlabel('Avg Chirp Volume', size=16);\n",
    "plt.ylabel('Temperature (F)', size=16);\n",
    "plt.xticks(size=16);\n",
    "plt.yticks(size=15);\n",
    "\n",
    "plt.show()"
   ]
  },
  {
   "cell_type": "markdown",
   "metadata": {
    "collapsed": true
   },
   "source": [
    "# Implementing linear regression from scratch\n",
    "Now we have checked that the data is clean and there are obvious linear relationships in the data, it makes sense to use a linear regression to estimate $y$.\n",
    "\n",
    "The implementation consists of three steps:\n",
    "   1. Initialize the class\n",
    "   2. Develop a function that can make predicitons with a given model (coefficients or weights)\n",
    "   3. Fit a model using gradient descent in order to return the model with the lowest mean squared error"
   ]
  },
  {
   "cell_type": "markdown",
   "metadata": {},
   "source": [
    "## Step 1 and 2\n",
    "### 1. Initialize the class\n",
    "### 2. Develop function that can make predictions"
   ]
  },
  {
   "cell_type": "code",
   "execution_count": 119,
   "metadata": {
    "collapsed": true
   },
   "outputs": [],
   "source": [
    "class LinearRegression(object):\n",
    "    \"\"\"\n",
    "    Least squares linear regression\n",
    "    \n",
    "    Parameters\n",
    "    ----------\n",
    "    n_iter: positive integer\n",
    "        number of iterations to perform gradient descent\n",
    "        \n",
    "    eta: float [0,1]\n",
    "        learning rate\n",
    "    \"\"\"\n",
    "    \n",
    "    def __init__(self, n_iter=200, eta=0.00001):\n",
    "        self.eta = eta\n",
    "        self.n_iter = n_iter\n",
    "        \n",
    "\n",
    "    def predict(self, X):\n",
    "        \"\"\"\n",
    "        Predict using the linear model\n",
    "        \n",
    "        Parameters\n",
    "        ----------\n",
    "        X: array, shape = (n_samples, n_features)\n",
    "        \n",
    "        return: array with predictions\n",
    "        \"\"\"\n",
    "        # set an intercept term and add to X\n",
    "        intercept = np.ones((X.shape[0], 1))\n",
    "        X = np.append(intercept, X, axis=1)\n",
    "        # set weights for testing as one for all weights (including the intercept term)\n",
    "        self.weights = np.ones(X.shape[1])\n",
    "        # calculate estimated y per observation (dot product of X and y)\n",
    "        return np.dot(X, self.weights)"
   ]
  },
  {
   "cell_type": "markdown",
   "metadata": {},
   "source": [
    "### Test predict function\n",
    "Note: possibly, the implementation of the predict function requires that X has the shape (n_samples, n_features). When selecting only one column of X, Python will automatically change its shape to (n_sample,). The numpy reshape manipulation below gives the array the shape (n_samples, 1)."
   ]
  },
  {
   "cell_type": "code",
   "execution_count": 134,
   "metadata": {
    "collapsed": true
   },
   "outputs": [],
   "source": [
    "lr_test_predict = LinearRegression()"
   ]
  },
  {
   "cell_type": "code",
   "execution_count": 135,
   "metadata": {
    "collapsed": false
   },
   "outputs": [
    {
     "name": "stdout",
     "output_type": "stream",
     "text": [
      "[ 21.   17.   20.8  19.4  18.1  16.5  15.7  18.1  16.4  17.2  16.   18.2\n",
      "  17.   18.   15.4]\n"
     ]
    }
   ],
   "source": [
    "# get predictions using only the first feature\n",
    "print(lr_test_predict.predict(X[:,0].reshape(-1,1)))"
   ]
  },
  {
   "cell_type": "code",
   "execution_count": 136,
   "metadata": {
    "collapsed": false,
    "scrolled": true
   },
   "outputs": [
    {
     "name": "stdout",
     "output_type": "stream",
     "text": [
      "[ 102.46   70.     90.07  104.8    95.32   47.83   74.35   65.02   60.64\n",
      "   70.75   63.16   89.41   75.43   68.83   65.86]\n"
     ]
    }
   ],
   "source": [
    "# get predictions using only the second feature\n",
    "print(lr_test_predict.predict(X[:,1].reshape(-1,1)))"
   ]
  },
  {
   "cell_type": "code",
   "execution_count": 137,
   "metadata": {
    "collapsed": false
   },
   "outputs": [
    {
     "name": "stdout",
     "output_type": "stream",
     "text": [
      "[ 122.46   86.    109.87  123.2   112.42   63.33   89.05   82.12   76.04\n",
      "   86.95   78.16  106.61   91.43   85.83   80.26]\n"
     ]
    }
   ],
   "source": [
    "# get predictions using both features\n",
    "print(lr_test_predict.predict(X))"
   ]
  },
  {
   "cell_type": "markdown",
   "metadata": {},
   "source": [
    "## 3. Estimate weights using gradient descent"
   ]
  },
  {
   "cell_type": "markdown",
   "metadata": {},
   "source": [
    "**Stochastic gradient descent requires two parameters:**\n",
    "\n",
    "**Learning Rate (eta)**:\n",
    "Used to limit the amount each coefficient is corrected each time it is updated.\n",
    "\n",
    "**Iterations (n_iter)**: The number of times to run through the training data while updating the coefficients.\n",
    "These, along with the training data will be the arguments to the function.\n",
    "\n",
    "\n",
    "**There are 5 steps we need to perform in the fit function:**\n",
    "\n",
    "1. Loop over each iteration\n",
    "2. Predict the values with weights of current iteration\n",
    "3. Calculate the cost (Mean Squared Error) with these predictions\n",
    "4. Calculate the gradient.\n",
    "5. Update the weights"
   ]
  },
  {
   "cell_type": "code",
   "execution_count": 141,
   "metadata": {
    "collapsed": true
   },
   "outputs": [],
   "source": [
    "class LinearRegressionGD(object):\n",
    "    \"\"\"\n",
    "    Least squares linear regression\n",
    "    \n",
    "    Parameters\n",
    "    ----------\n",
    "    n_iter: positive integer\n",
    "        number of iterations to perform gradient descent\n",
    "        \n",
    "    eta: float [0,1]\n",
    "        learning rate\n",
    "    \n",
    "    print_iter: boolean\n",
    "        when true, show cost during traing after each 20 iterations\n",
    "    \"\"\"\n",
    "    \n",
    "    def __init__(self, n_iter=200, eta=0.0001, print_iter=False):\n",
    "        self.eta = eta\n",
    "        self.n_iter = n_iter\n",
    "        self.print_iter = print_iter\n",
    "            \n",
    "    def predict(self, X):\n",
    "        # Add intercept, only in the case it is not yet added\n",
    "        if X.shape[1] == len(self.weights) - 1:\n",
    "            intercept = np.ones((X.shape[0], 1))\n",
    "            X = np.append(intercept, X, axis=1)\n",
    "        return np.dot(X, self.weights)\n",
    "    \n",
    "    def fit(self, X, y):\n",
    "        \"\"\"\n",
    "        Fit linear model\n",
    "        \n",
    "        Parameters\n",
    "        ----------\n",
    "        X: array, shape = (n_samples, n_features)\n",
    "        y: array, shape = (n_samples, )\n",
    "        \n",
    "        returns: self  \n",
    "        \"\"\"\n",
    "        # keep track of costs\n",
    "        self.costs = []\n",
    "        \n",
    "        # initialize weights\n",
    "        self.weights = np.zeros(1+X.shape[1])\n",
    "\n",
    "        # add intercept\n",
    "        intercept = np.ones((X.shape[0], 1))\n",
    "        X = np.append(intercept, X, axis=1)\n",
    "        \n",
    "        # loop over each iteration\n",
    "        for i in range(self.n_iter):\n",
    "            # predict values with weights of current iterations\n",
    "            y_hat = self.predict(X)\n",
    "            # calculate cost (mean squared error)\n",
    "            error = y_hat - y\n",
    "            n_obs = len(y)\n",
    "            cost = np.sum(error ** 2) / n_obs\n",
    "            # keep track of cost per iteration\n",
    "            self.costs.append(cost)\n",
    "            \n",
    "            # print cost per 20 iterations to check if MSE is converging\n",
    "            if self.print_iter:\n",
    "                if (i+1) % 20 == 0:\n",
    "                    print(\"Iteration {} | Cost: {:.2f}\".format(i+1, cost))\n",
    "     \n",
    "            # calculate the gradient\n",
    "            gradient = np.dot(X.transpose(), error) / n_obs\n",
    "            \n",
    "            # update weights\n",
    "            self.weights -= self.eta * gradient\n",
    "        return self"
   ]
  },
  {
   "cell_type": "markdown",
   "metadata": {},
   "source": [
    "## Test fit function"
   ]
  },
  {
   "cell_type": "code",
   "execution_count": 153,
   "metadata": {
    "collapsed": false,
    "scrolled": false
   },
   "outputs": [
    {
     "name": "stdout",
     "output_type": "stream",
     "text": [
      "Iteration 20 | Cost: 2195.23\n",
      "Iteration 40 | Cost: 714.66\n",
      "Iteration 60 | Cost: 241.24\n",
      "Iteration 80 | Cost: 89.87\n",
      "Iteration 100 | Cost: 41.46\n",
      "Iteration 120 | Cost: 25.99\n",
      "Iteration 140 | Cost: 21.04\n",
      "Iteration 160 | Cost: 19.45\n",
      "Iteration 180 | Cost: 18.95\n",
      "Iteration 200 | Cost: 18.79\n"
     ]
    },
    {
     "data": {
      "text/plain": [
       "array([ 95.45851496,  76.42437371,  94.5068079 ,  87.84485846,\n",
       "        81.65876256,  74.04510606,  70.23827781,  81.65876256,\n",
       "        73.56925252,  77.37608077,  71.6658384 ,  82.13461609,\n",
       "        76.42437371,  81.18290902,  68.81071721])"
      ]
     },
     "execution_count": 153,
     "metadata": {},
     "output_type": "execute_result"
    }
   ],
   "source": [
    "lr = LinearRegressionGD(eta=0.0001, n_iter=200, print_iter=True)\n",
    "lr.fit(X[:,0].reshape(-1,1),y)\n",
    "y_hat = lr.predict(X[:,0].reshape(-1,1))\n",
    "\n",
    "y_hat"
   ]
  },
  {
   "cell_type": "markdown",
   "metadata": {},
   "source": [
    "## Questions:\n",
    "- **Which feature is better in predicting the temperature?**\n",
    "- **Are the predictions more accurate when you use both features?**"
   ]
  },
  {
   "cell_type": "markdown",
   "metadata": {},
   "source": [
    "## Plot results"
   ]
  },
  {
   "cell_type": "code",
   "execution_count": 160,
   "metadata": {
    "collapsed": false
   },
   "outputs": [
    {
     "data": {
      "image/png": "[encoded data removed]",
      "text/plain": [
       "<matplotlib.figure.Figure at 0x7f30d662cd30>"
      ]
     },
     "metadata": {},
     "output_type": "display_data"
    }
   ],
   "source": [
    "def plot_regression_line(lr, X, y):\n",
    "    lr.print_iter = False\n",
    "    lr.fit(X, y)\n",
    "    y_hat = lr.predict(X)\n",
    "    \n",
    "    plt.figure(figsize=(10,6));\n",
    "    plt.scatter(X, y);\n",
    "    plt.plot(X, y_hat, '-', c='orange', label='Regression line. MSE: {:.2f}'.format(lr.costs[-1]));\n",
    "    plt.xlabel('Cricket Chirps (chirps/sec)', size=16);\n",
    "    plt.ylabel('Temperature (F)', size=16);\n",
    "    plt.xticks(size=16);\n",
    "    plt.yticks(size=15);\n",
    "    plt.legend(fontsize=16);\n",
    "    \n",
    "plot_regression_line(lr, X[:,0].reshape(-1,1), y)"
   ]
  },
  {
   "cell_type": "markdown",
   "metadata": {},
   "source": [
    "# Choosing learning rate hyperparameter\n",
    "Making a plot can help in setting a good hyperparamter. Use the plotting function below to choose an appropriate learning rate.\n"
   ]
  },
  {
   "cell_type": "code",
   "execution_count": 166,
   "metadata": {
    "collapsed": false,
    "scrolled": false
   },
   "outputs": [
    {
     "data": {
      "image/png": "[encoded data removed]",
      "text/plain": [
       "<matplotlib.figure.Figure at 0x7f30d68b2a90>"
      ]
     },
     "metadata": {},
     "output_type": "display_data"
    }
   ],
   "source": [
    "def plot_learning_rate(X, n_iter, eta_list):\n",
    "    colors = ['blue', 'red', 'green', 'brown', 'yellow']\n",
    "    plt.figure(figsize=(10,6))\n",
    "    for eta, c in zip(eta_list, colors):\n",
    "        lr = LinearRegressionGD(n_iter, eta)\n",
    "        lr.fit(X, y)\n",
    "        plt.plot(lr.costs, color=c, label='$\\eta$: {}\\nMSE: {:}'.format(eta, round(lr.costs[-1],2)))\n",
    "    plt.legend(fontsize=16)\n",
    "    plt.xticks(size=15)\n",
    "    plt.yticks(size=15)\n",
    "    plt.xlabel('iteration', size=16)\n",
    "    plt.ylabel('costs (MSE)', size=16)\n",
    "\n",
    "eta_list = [0.001, 0.0001, 0.00001]\n",
    "plot_learning_rate(X=X[:,0].reshape(-1,1), n_iter=200, eta_list=eta_list)"
   ]
  }
 ],
 "metadata": {
  "anaconda-cloud": {},
  "kernelspec": {
   "display_name": "Python [default]",
   "language": "python",
   "name": "python2"
  },
  "language_info": {
   "codemirror_mode": {
    "name": "ipython",
    "version": 2
   },
   "file_extension": ".py",
   "mimetype": "text/x-python",
   "name": "python",
   "nbconvert_exporter": "python",
   "pygments_lexer": "ipython2",
   "version": "2.7.12"
  }
 },
 "nbformat": 4,
 "nbformat_minor": 0
}
