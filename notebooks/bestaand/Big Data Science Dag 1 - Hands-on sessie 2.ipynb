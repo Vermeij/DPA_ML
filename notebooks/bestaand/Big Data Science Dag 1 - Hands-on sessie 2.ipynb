{
 "cells": [
  {
   "cell_type": "markdown",
   "metadata": {},
   "source": [
    "# Hands-on sessie 2\n",
    "- Syntaxbegrip\n",
    "- Werken met datatypen: numeriek & strings\n",
    "- Eenvoudige problemen oplossen"
   ]
  },
  {
   "cell_type": "markdown",
   "metadata": {},
   "source": [
    "## Syntax"
   ]
  },
  {
   "cell_type": "code",
   "execution_count": 1,
   "metadata": {
    "collapsed": false
   },
   "outputs": [
    {
     "name": "stdout",
     "output_type": "stream",
     "text": [
      "(123, 'abc')\n"
     ]
    }
   ],
   "source": [
    "# Assignen van variabelen\n",
    "a = 123\n",
    "b = 'abc'\n",
    "\n",
    "# Printen\n",
    "print(a,b)"
   ]
  },
  {
   "cell_type": "markdown",
   "metadata": {},
   "source": [
    "## Numeriek"
   ]
  },
  {
   "cell_type": "code",
   "execution_count": 2,
   "metadata": {
    "collapsed": false
   },
   "outputs": [
    {
     "name": "stdout",
     "output_type": "stream",
     "text": [
      "6\n",
      "12\n",
      "4\n",
      "c =  186624\n",
      "c modulo 5 = 4\n"
     ]
    }
   ],
   "source": [
    "print 1+5           # Simpele berekening zonder toewijzing\n",
    "print 3*4           \n",
    "print 9/2 \n",
    "\n",
    "a = 1 + 5           # Berekening met toewijzing aan variabele\n",
    "b = 2 ** 3          \n",
    "\n",
    "c = a**b/9           # Gecombineerde berekening en toewijzing aan variabele\n",
    "print 'c = ', c      \n",
    "\n",
    "print 'c modulo 5 =', c % 5        # Modulus berekenen"
   ]
  },
  {
   "cell_type": "markdown",
   "metadata": {},
   "source": [
    "## String"
   ]
  },
  {
   "cell_type": "code",
   "execution_count": 3,
   "metadata": {
    "collapsed": false
   },
   "outputs": [
    {
     "name": "stdout",
     "output_type": "stream",
     "text": [
      "hello world\n",
      "['hello', 'world', 'hello', 'world', 'world']\n"
     ]
    },
    {
     "data": {
      "text/plain": [
       "True"
      ]
     },
     "execution_count": 3,
     "metadata": {},
     "output_type": "execute_result"
    }
   ],
   "source": [
    "d = \"hello\"          # Toewijzen aan variabele met dubbele quotes\n",
    "e = 'world'          # of enkele quotes is geen verschil\n",
    "\n",
    "f = d + ' ' + e      # Samenvoegen van woorden doe je met de + operator\n",
    "\n",
    "print f\n",
    "\n",
    "g = [d,e,d,e,e]      # Woorden in array\n",
    "\n",
    "print g\n",
    "\n",
    "'hello' in g         # logische operatie om te kijken of een woord voorkomt in een array"
   ]
  },
  {
   "cell_type": "markdown",
   "metadata": {},
   "source": [
    "## Opdracht 1"
   ]
  },
  {
   "cell_type": "markdown",
   "metadata": {},
   "source": [
    "Een doos heeft de afmetingen 8(b) x 24(l) x 90(h)\n",
    "- A. Bereken de lengte van alle randen van de doos\n",
    "- B. Bereken het totale buitenoppervlak van de doos\n",
    "- C. Bereken de inhoud van de doos\n",
    "- D. De hoogte van de doos is eigenlijk 18, verander je code in\n",
    "   bovenstaande antwoorden op zo'n manier dat je maar 1 variabele\n",
    "   hoeft aan te passen, zodat je het hele script in 1x opnieuw kan runnen ----> Schrijf dus een functie"
   ]
  },
  {
   "cell_type": "code",
   "execution_count": 4,
   "metadata": {
    "collapsed": true
   },
   "outputs": [],
   "source": [
    "# Vraag ABC\n",
    "# Schrijf je code hier"
   ]
  },
  {
   "cell_type": "code",
   "execution_count": 5,
   "metadata": {
    "collapsed": true
   },
   "outputs": [],
   "source": [
    "# Vraag D\n",
    "# Schrijf je functie hier"
   ]
  },
  {
   "cell_type": "code",
   "execution_count": 6,
   "metadata": {
    "collapsed": true
   },
   "outputs": [],
   "source": [
    "# Vraag D\n",
    "# Test je functie hier"
   ]
  },
  {
   "cell_type": "markdown",
   "metadata": {},
   "source": [
    "## Opdracht 2"
   ]
  },
  {
   "cell_type": "markdown",
   "metadata": {},
   "source": [
    "Onderstaand staat een array van woonplaatsen en een voorbeeldloop.\n",
    "- Importeer de numpy package\n",
    "- A Maak een functie van de voorbeeldloop die een array en voorwaarde als input neemt en het aantal keer dat de voorwaarde voorkomt print\n",
    "- B Gebruik je functie om te bepalen hoevaak Rotterdam voorkomt in de array\n",
    "- C Welke verschillende soorten steden staan er in de woonplaatslijst? Gebruik de numpy.unique functie of transformeer de lijst naar een set.\n",
    "- D Verander je functie zodat je geen conditie hoeft op te geven (gebruik antwoord C)\n",
    "- E Run de functie uit antwoord D en bepaal of de data consistent is"
   ]
  },
  {
   "cell_type": "code",
   "execution_count": 1,
   "metadata": {
    "collapsed": true
   },
   "outputs": [],
   "source": [
    "woonplaats = ['Rotterdam','Utrecht','Amsterdam','Rotterdam','Utrecht',\n",
    "              'Amsterdam','Amsterdam','Rotterdam','Roterdam','Rotterdam',\n",
    "              'Utrecht','Amsterdam','Amsterdam','Rotterdam', 'Utrecht',\n",
    "              'Rotterdam','Utrecht','Amsterdam','Amsterdam','Amsterdam']"
   ]
  },
  {
   "cell_type": "code",
   "execution_count": 2,
   "metadata": {
    "collapsed": false
   },
   "outputs": [
    {
     "name": "stdout",
     "output_type": "stream",
     "text": [
      "8\n"
     ]
    }
   ],
   "source": [
    "# Aantal keer dat Amsterdam in de array voorkomt\n",
    "teller = 0\n",
    "for stad in woonplaats:\n",
    "    if stad == \"Amsterdam\":\n",
    "        teller += 1\n",
    "print teller"
   ]
  },
  {
   "cell_type": "code",
   "execution_count": 10,
   "metadata": {
    "collapsed": true
   },
   "outputs": [],
   "source": [
    "# Importeer numpy package hier"
   ]
  },
  {
   "cell_type": "code",
   "execution_count": 1,
   "metadata": {
    "collapsed": true
   },
   "outputs": [],
   "source": [
    "# Schrijf je code hier"
   ]
  },
  {
   "cell_type": "markdown",
   "metadata": {},
   "source": [
    "# Bonus opdracht"
   ]
  },
  {
   "cell_type": "markdown",
   "metadata": {},
   "source": [
    "Los de volgende opdrachten op met zo min mogelijk code:\n",
    "* Simpel:\n",
    " 1. Maak een functie die het grootste getal teruggeeft van drie losse invoerparameters. Maak geen gebruik van ingebouwde functies zoals max().\n",
    " 2. Maak een functie die de Fibonacci-reeks maakt voor een ingegeven aantal stappen. Maak geen gebruik van ingebouwde functies.\n",
    " \n",
    "* Gemiddeld:\n",
    " 3. Maak een functie die de woorden in een zin omdraait. Bijvoorbeeld, als input: Ik ben data scientist, moet als output geven: scientist data ben Ik.\n",
    "  \n",
    "* Moeilijk:\n",
    " 1. _Een programmeertaal is een formele taal waarin de opdrachten die een computer moet uitvoeren worden geschreven. Deze talen hebben een andere syntaxis en grammatica dan natuurlijke talen. Deze laatste zijn te complex en ambigu om als programmeertaal te fungeren. Code die in een programmeertaal geschreven is dient maar op één manier te kunnen worden begrepen door de computer._\n",
    "   1. Tel met een functie het aantal woorden, letters en tekens van bovenstaande zin. Maak de functie zo algemeen mogelijk.\n",
    "   2. Verwijder alle leestekens uit bovenstaande zin en map elke letter om naar een getal (positie in het alfabet).\n",
    "   3. Wat is de som van deze gemapte tekst? Als je vemenigvuldigt met elk oneven element en deelt door elk even element, waar kom je dan op uit voor deze tekst?"
   ]
  },
  {
   "cell_type": "markdown",
   "metadata": {},
   "source": [
    "NB: Voor deze opdracht is het nodig dat je af en toe wat Googled. Dit is nou eenmaal de bittere realiteit voor een startende data scientist. Alle vragen die je hebt zijn namelijk al ooit beantwoord door mensen die je voorgingen in het leerproces. Kun je het antwoord niet vinden dan heb je je vraag per definitie niet goed geformuleerd. Keep it up!"
   ]
  },
  {
   "cell_type": "code",
   "execution_count": null,
   "metadata": {
    "collapsed": true
   },
   "outputs": [],
   "source": [
    "# Code hier"
   ]
  }
 ],
 "metadata": {
  "anaconda-cloud": {},
  "kernelspec": {
   "display_name": "Python [Root]",
   "language": "python",
   "name": "Python [Root]"
  },
  "language_info": {
   "codemirror_mode": {
    "name": "ipython",
    "version": 2
   },
   "file_extension": ".py",
   "mimetype": "text/x-python",
   "name": "python",
   "nbconvert_exporter": "python",
   "pygments_lexer": "ipython2",
   "version": "2.7.12"
  }
 },
 "nbformat": 4,
 "nbformat_minor": 0
}
