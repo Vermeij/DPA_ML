{
 "cells": [
  {
   "cell_type": "markdown",
   "metadata": {},
   "source": [
    "## Hands-on sessie 3\n",
    "\n",
    "Deze sessie gaat over Python datastructuren en Pythonic programmeren. In de vorige sessie hebben we alles met de hand gemaakt door middel van for-loops en hebben we weinig gebruik gemaakt van ingebouwde Python functies. In deze sessie gaan we de ingebouwde functies nader bekijken.\n",
    "\n",
    "Zorg ervoor dat je de opdrachten over virtual environments, pip en conda hebt gemaakt voor je hieraan begint."
   ]
  },
  {
   "cell_type": "markdown",
   "metadata": {},
   "source": [
    "In de vorige sessie hadden we onderstaande functie om te tellen hoe vaak een bepaalde string voorkwam in een array:"
   ]
  },
  {
   "cell_type": "code",
   "execution_count": null,
   "metadata": {
    "collapsed": true
   },
   "outputs": [],
   "source": [
    "def count_city_1(ar,cond):\n",
    "    teller = 0\n",
    "    for stad in ar:\n",
    "        if stad == cond:\n",
    "            teller += 1\n",
    "    return teller"
   ]
  },
  {
   "cell_type": "markdown",
   "metadata": {},
   "source": [
    "### Opdracht 1\n",
    "Dit kan veel makkelijker met de count() functie van Python. Maak een functie count_city_3 die count() gebruikt om een string te tellen in een array."
   ]
  },
  {
   "cell_type": "code",
   "execution_count": null,
   "metadata": {
    "collapsed": true
   },
   "outputs": [],
   "source": [
    "# Code hier"
   ]
  },
  {
   "cell_type": "markdown",
   "metadata": {},
   "source": [
    "Om te verifieren of je functie klopt kun je onderstaand stuk code gebruiken:"
   ]
  },
  {
   "cell_type": "code",
   "execution_count": null,
   "metadata": {
    "collapsed": false
   },
   "outputs": [],
   "source": [
    "arr = ['Test', 'Test2', 'Test']\n",
    "print count_city_1(arr, 'Test') == count_city_3(arr, 'Test')"
   ]
  },
  {
   "cell_type": "markdown",
   "metadata": {},
   "source": [
    "Ook de functie om van alle unieke strings te tellen hoe vaak ze voorkomen kan makkelijker. Oude functie:"
   ]
  },
  {
   "cell_type": "code",
   "execution_count": null,
   "metadata": {
    "collapsed": true
   },
   "outputs": [],
   "source": [
    "import numpy as np\n",
    "def count_city_2(ar):\n",
    "    unieke_steden = np.unique(ar)\n",
    "    for un_stad in unieke_steden:\n",
    "        teller = 0\n",
    "        for stad in ar:\n",
    "            if stad == un_stad:\n",
    "                teller += 1\n",
    "        print un_stad,':',teller"
   ]
  },
  {
   "cell_type": "markdown",
   "metadata": {},
   "source": [
    "### Opdracht 2\n",
    "Gebruik Counter uit de collections package om in twee regels alle unieke elementen te tellen in een array."
   ]
  },
  {
   "cell_type": "code",
   "execution_count": null,
   "metadata": {
    "collapsed": true
   },
   "outputs": [],
   "source": [
    "# Code hier"
   ]
  },
  {
   "cell_type": "markdown",
   "metadata": {},
   "source": [
    "### Functioneel programmeren\n",
    "Als je eenmaal weet welke functies ingebouwd zitten wordt je code een stuk korter en leesbaarder. Het bespaart op deze manier ook een hoop tijd. In Python kun je ook semi-functioneel programmeren. Onderstaande opdrachten gaan daarover.\n",
    "\n",
    "Om alle strings in een array uppercase te maken kan je het volgende doen:"
   ]
  },
  {
   "cell_type": "code",
   "execution_count": null,
   "metadata": {
    "collapsed": false
   },
   "outputs": [],
   "source": [
    "arr = ['test', 'hallo', 'bigdata', 'republic', 'science']\n",
    "for x in arr:\n",
    "    x = x.upper()\n",
    "    \n",
    "print arr"
   ]
  },
  {
   "cell_type": "markdown",
   "metadata": {},
   "source": [
    "### Vraag: Waarom werkt dit niet?\n",
    "Dit werkt wel:"
   ]
  },
  {
   "cell_type": "code",
   "execution_count": null,
   "metadata": {
    "collapsed": false
   },
   "outputs": [],
   "source": [
    "for i, x in enumerate(arr):\n",
    "    arr[i] = x.upper()\n",
    "    \n",
    "print arr"
   ]
  },
  {
   "cell_type": "markdown",
   "metadata": {},
   "source": [
    "### Opdracht 3\n",
    "Het codeblok hierboven is een stuk meer gedoe voor zoiets simpels. Hoe kan dit makkelijker? Met een map()! Gebruik de map()-functie om een equivalent resultaat te krijgen als hierboven in 1 regel."
   ]
  },
  {
   "cell_type": "code",
   "execution_count": null,
   "metadata": {
    "collapsed": false
   },
   "outputs": [],
   "source": [
    "# Code hier"
   ]
  },
  {
   "cell_type": "markdown",
   "metadata": {},
   "source": [
    "Hetzelfde kunnen we doen met integers:"
   ]
  },
  {
   "cell_type": "code",
   "execution_count": null,
   "metadata": {
    "collapsed": false
   },
   "outputs": [],
   "source": [
    "integer_array = [0, 5, 1, 2, 8, 16, 3.8]\n",
    "print map(lambda x: x*2, integer_array)"
   ]
  },
  {
   "cell_type": "markdown",
   "metadata": {},
   "source": [
    "### Opdracht 4\n",
    "Maar... dit kan nog makkelijker! Met numpy kunnen we dit veel intuitiever oplossen. Maak het volgende stukje code af om een equivalent resultaat te krijgen als hierboven."
   ]
  },
  {
   "cell_type": "code",
   "execution_count": null,
   "metadata": {
    "collapsed": false
   },
   "outputs": [],
   "source": [
    "integer_array_np = np.array([0, 5, 1, 2, 8, 16, 3.8])\n",
    "# Code hier\n"
   ]
  },
  {
   "cell_type": "markdown",
   "metadata": {},
   "source": [
    "Let op! In een numpy array hebben alle waardes hetzelfde type. In de 'normale' Python array zoals in Opdracht 3 heeft elke waarde zijn eigen type.\n",
    "\n",
    "Het direct gebruiken van arrays in wiskundige berekeningen noemt men gevectoriseerd programmeren. Dit heeft meerdere voordelen: het is veel intuitiever en duidelijker, maar het is ook een stuk sneller! De Python interpreter kan meer optimalisaties uitvoeren als je iets op een gevectoriseerde manier programmeert. Daarnaast is het makkelijker om je code uit te laten voeren op GPU's."
   ]
  }
 ],
 "metadata": {
  "anaconda-cloud": {},
  "kernelspec": {
   "display_name": "Python [Root]",
   "language": "python",
   "name": "Python [Root]"
  },
  "language_info": {
   "codemirror_mode": {
    "name": "ipython",
    "version": 2
   },
   "file_extension": ".py",
   "mimetype": "text/x-python",
   "name": "python",
   "nbconvert_exporter": "python",
   "pygments_lexer": "ipython2",
   "version": "2.7.12"
  }
 },
 "nbformat": 4,
 "nbformat_minor": 0
}
